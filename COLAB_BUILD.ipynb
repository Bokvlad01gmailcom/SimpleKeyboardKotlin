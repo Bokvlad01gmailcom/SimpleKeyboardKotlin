{
  "nbformat": 4,
  "nbformat_minor": 0,
  "metadata": {
    "colab": {
      "provenance": []
    },
    "kernelspec": {
      "name": "python3",
      "display_name": "Python 3"
    }
  },
  "cells": [
    {
      "cell_type": "markdown",
      "metadata": {},
      "source": [
        "# 🚀 SimpleKeyboardKotlin - Google Colab Build\n",
        "\n",
        "Сборка Android APK в Google Colab с полной настройкой среды."
      ]
    },
    {
      "cell_type": "code",
      "execution_count": null,
      "metadata": {},
      "outputs": [],
      "source": [
        "# 1. Установка Java 17\n",
        "!apt-get update -qq\n",
        "!apt-get install -y openjdk-17-jdk-headless\n",
        "!update-alternatives --set java /usr/lib/jvm/java-17-openjdk-amd64/bin/java\n",
        "\n",
        "import os\n",
        "os.environ['JAVA_HOME'] = '/usr/lib/jvm/java-17-openjdk-amd64'\n",
        "os.environ['PATH'] = f\"{os.environ['JAVA_HOME']}/bin:{os.environ['PATH']}\"\n",
        "\n",
        "!java -version"
      ]
    },
    {
      "cell_type": "code",
      "execution_count": null,
      "metadata": {},
      "outputs": [],
      "source": [
        "# 2. Установка Android SDK\n",
        "!mkdir -p /content/android-sdk/cmdline-tools\n",
        "!cd /content/android-sdk/cmdline-tools && wget -q https://dl.google.com/android/repository/commandlinetools-linux-9477386_latest.zip\n",
        "!cd /content/android-sdk/cmdline-tools && unzip -q commandlinetools-linux-9477386_latest.zip\n",
        "!cd /content/android-sdk/cmdline-tools && mv cmdline-tools latest\n",
        "\n",
        "os.environ['ANDROID_SDK_ROOT'] = '/content/android-sdk'\n",
        "os.environ['ANDROID_HOME'] = '/content/android-sdk'\n",
        "os.environ['PATH'] = f\"{os.environ['ANDROID_SDK_ROOT']}/cmdline-tools/latest/bin:{os.environ['PATH']}\"\n",
        "\n",
        "print(\"Android SDK установлен\")"
      ]
    },
    {
      "cell_type": "code",
      "execution_count": null,
      "metadata": {},
      "outputs": [],
      "source": [
        "# 3. Установка компонентов Android SDK\n",
        "!yes | sdkmanager --licenses\n",
        "!sdkmanager \"platforms;android-34\"\n",
        "!sdkmanager \"build-tools;34.0.0\"\n",
        "!sdkmanager \"platform-tools\"\n",
        "\n",
        "!sdkmanager --list_installed"
      ]
    },
    {
      "cell_type": "code",
      "execution_count": null,
      "metadata": {},
      "outputs": [],
      "source": [
        "# 4. Клонирование проекта\n",
        "!git clone https://github.com/Bokvlad01gmailcom/SimpleKeyboardKotlin.git\n",
        "!ls -la SimpleKeyboardKotlin/"
      ]
    },
    {
      "cell_type": "code",
      "execution_count": null,
      "metadata": {},
      "outputs": [],
      "source": [
        "# 5. Сборка APK\n",
        "%cd SimpleKeyboardKotlin\n",
        "\n",
        "os.environ['GRADLE_OPTS'] = '-Xmx2048m -Dfile.encoding=UTF-8'\n",
        "\n",
        "!chmod +x gradlew\n",
        "!./gradlew --version\n",
        "!./gradlew clean assembleDebug --no-daemon --stacktrace"
      ]
    },
    {
      "cell_type": "code",
      "execution_count": null,
      "metadata": {},
      "outputs": [],
      "source": [
        "# 6. Проверка результата\n",
        "!find . -name \"*.apk\" -type f -exec ls -la {} \\;\n",
        "\n",
        "# Скачивание APK\n",
        "from google.colab import files\n",
        "import os\n",
        "\n",
        "apk_path = 'app/build/outputs/apk/debug/app-debug.apk'\n",
        "if os.path.exists(apk_path):\n",
        "    print(f\"✅ APK найден: {apk_path}\")\n",
        "    !ls -la {apk_path}\n",
        "    files.download(apk_path)\n",
        "else:\n",
        "    print(\"❌ APK не найден\")\n",
        "    !find . -name \"*.apk\" -type f"
      ]
    },
    {
      "cell_type": "code",
      "execution_count": null,
      "metadata": {},
      "outputs": [],
      "source": [
        "# 7. Создание подписанного APK (если нужно)\n",
        "!keytool -genkey -v -keystore debug.keystore -alias androiddebugkey -keyalg RSA -keysize 2048 -validity 10000 -storepass android -keypass android -dname \"CN=Android Debug,O=Android,C=US\"\n",
        "\n",
        "# Подписание APK\n",
        "!jarsigner -verbose -sigalg SHA1withRSA -digestalg SHA1 -keystore debug.keystore -storepass android -keypass android app/build/outputs/apk/debug/app-debug.apk androiddebugkey\n",
        "\n",
        "print(\"APK подписан для установки\")"
      ]
    }
  ]
}